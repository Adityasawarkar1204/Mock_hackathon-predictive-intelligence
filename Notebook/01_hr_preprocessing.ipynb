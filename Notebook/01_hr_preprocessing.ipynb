{
 "cells": [
  {
   "cell_type": "markdown",
   "id": "bd34df70",
   "metadata": {},
   "source": [
    "# HR Attrition Data Preprocessing + Feature Engg. + Model Training"
   ]
  },
  {
   "cell_type": "code",
   "execution_count": 41,
   "id": "f8364f2a",
   "metadata": {},
   "outputs": [],
   "source": [
    "import pandas as pd\n",
    "import numpy as np\n",
    "import matplotlib.pyplot as plt\n",
    "import seaborn as sns\n",
    "from sklearn.model_selection import train_test_split\n",
    "from sklearn.linear_model import LogisticRegression\n",
    "from sklearn.ensemble import RandomForestClassifier\n",
    "from sklearn.metrics import classification_report, confusion_matrix, roc_auc_score, roc_curve\n",
    "import joblib"
   ]
  },
  {
   "cell_type": "markdown",
   "id": "ad783246",
   "metadata": {},
   "source": [
    "### Load Dataset"
   ]
  },
  {
   "cell_type": "code",
   "execution_count": 23,
   "id": "678535b8",
   "metadata": {},
   "outputs": [],
   "source": [
    "df = pd.read_csv(\"D:/hackerthon_ai_project/Data/WA_Fn-UseC_-HR-Employee-Attrition.csv\")\n"
   ]
  },
  {
   "cell_type": "code",
   "execution_count": 24,
   "id": "ba605df0",
   "metadata": {},
   "outputs": [
    {
     "name": "stdout",
     "output_type": "stream",
     "text": [
      "Dataset Shape: (1470, 35)\n"
     ]
    }
   ],
   "source": [
    "print(\"Dataset Shape:\", df.shape)\n"
   ]
  },
  {
   "cell_type": "code",
   "execution_count": 25,
   "id": "e171af59",
   "metadata": {},
   "outputs": [
    {
     "name": "stdout",
     "output_type": "stream",
     "text": [
      "   Age Attrition     BusinessTravel  DailyRate              Department  \\\n",
      "0   41       Yes      Travel_Rarely       1102                   Sales   \n",
      "1   49        No  Travel_Frequently        279  Research & Development   \n",
      "2   37       Yes      Travel_Rarely       1373  Research & Development   \n",
      "3   33        No  Travel_Frequently       1392  Research & Development   \n",
      "4   27        No      Travel_Rarely        591  Research & Development   \n",
      "\n",
      "   DistanceFromHome  Education EducationField  EmployeeCount  EmployeeNumber  \\\n",
      "0                 1          2  Life Sciences              1               1   \n",
      "1                 8          1  Life Sciences              1               2   \n",
      "2                 2          2          Other              1               4   \n",
      "3                 3          4  Life Sciences              1               5   \n",
      "4                 2          1        Medical              1               7   \n",
      "\n",
      "   ...  RelationshipSatisfaction StandardHours  StockOptionLevel  \\\n",
      "0  ...                         1            80                 0   \n",
      "1  ...                         4            80                 1   \n",
      "2  ...                         2            80                 0   \n",
      "3  ...                         3            80                 0   \n",
      "4  ...                         4            80                 1   \n",
      "\n",
      "   TotalWorkingYears  TrainingTimesLastYear WorkLifeBalance  YearsAtCompany  \\\n",
      "0                  8                      0               1               6   \n",
      "1                 10                      3               3              10   \n",
      "2                  7                      3               3               0   \n",
      "3                  8                      3               3               8   \n",
      "4                  6                      3               3               2   \n",
      "\n",
      "  YearsInCurrentRole  YearsSinceLastPromotion  YearsWithCurrManager  \n",
      "0                  4                        0                     5  \n",
      "1                  7                        1                     7  \n",
      "2                  0                        0                     0  \n",
      "3                  7                        3                     0  \n",
      "4                  2                        2                     2  \n",
      "\n",
      "[5 rows x 35 columns]\n"
     ]
    }
   ],
   "source": [
    "print(df.head())"
   ]
  },
  {
   "cell_type": "markdown",
   "id": "e893260a",
   "metadata": {},
   "source": [
    "###  Data Preprocessing"
   ]
  },
  {
   "cell_type": "code",
   "execution_count": 26,
   "id": "0bab0103",
   "metadata": {},
   "outputs": [],
   "source": [
    "#  Convert target column Attrition to numeric"
   ]
  },
  {
   "cell_type": "code",
   "execution_count": 27,
   "id": "8893fab2",
   "metadata": {},
   "outputs": [],
   "source": [
    "df[\"Attrition\"] = df[\"Attrition\"].map({\"Yes\": 1, \"No\": 0})"
   ]
  },
  {
   "cell_type": "code",
   "execution_count": 28,
   "id": "a2d24c50",
   "metadata": {},
   "outputs": [
    {
     "data": {
      "text/plain": [
       "Age                         0\n",
       "Attrition                   0\n",
       "BusinessTravel              0\n",
       "DailyRate                   0\n",
       "Department                  0\n",
       "DistanceFromHome            0\n",
       "Education                   0\n",
       "EducationField              0\n",
       "EmployeeCount               0\n",
       "EmployeeNumber              0\n",
       "EnvironmentSatisfaction     0\n",
       "Gender                      0\n",
       "HourlyRate                  0\n",
       "JobInvolvement              0\n",
       "JobLevel                    0\n",
       "JobRole                     0\n",
       "JobSatisfaction             0\n",
       "MaritalStatus               0\n",
       "MonthlyIncome               0\n",
       "MonthlyRate                 0\n",
       "NumCompaniesWorked          0\n",
       "Over18                      0\n",
       "OverTime                    0\n",
       "PercentSalaryHike           0\n",
       "PerformanceRating           0\n",
       "RelationshipSatisfaction    0\n",
       "StandardHours               0\n",
       "StockOptionLevel            0\n",
       "TotalWorkingYears           0\n",
       "TrainingTimesLastYear       0\n",
       "WorkLifeBalance             0\n",
       "YearsAtCompany              0\n",
       "YearsInCurrentRole          0\n",
       "YearsSinceLastPromotion     0\n",
       "YearsWithCurrManager        0\n",
       "dtype: int64"
      ]
     },
     "execution_count": 28,
     "metadata": {},
     "output_type": "execute_result"
    }
   ],
   "source": [
    "df.isnull().sum()"
   ]
  },
  {
   "cell_type": "code",
   "execution_count": 29,
   "id": "c4ac147a",
   "metadata": {},
   "outputs": [],
   "source": [
    "features = [\"Age\", \"MonthlyIncome\", \"YearsAtCompany\", \"JobLevel\", \"TotalWorkingYears\"]\n",
    "X = df[features]\n",
    "y = df[\"Attrition\"]"
   ]
  },
  {
   "cell_type": "markdown",
   "id": "f1f070de",
   "metadata": {},
   "source": [
    "### Feature Engineering"
   ]
  },
  {
   "cell_type": "code",
   "execution_count": 30,
   "id": "e670809a",
   "metadata": {},
   "outputs": [
    {
     "name": "stderr",
     "output_type": "stream",
     "text": [
      "C:\\Users\\adity\\AppData\\Local\\Temp\\ipykernel_22860\\3804211368.py:1: SettingWithCopyWarning: \n",
      "A value is trying to be set on a copy of a slice from a DataFrame.\n",
      "Try using .loc[row_indexer,col_indexer] = value instead\n",
      "\n",
      "See the caveats in the documentation: https://pandas.pydata.org/pandas-docs/stable/user_guide/indexing.html#returning-a-view-versus-a-copy\n",
      "  X[\"LoyaltyIndex\"] = (df[\"YearsAtCompany\"] / df[\"Age\"]).fillna(0)\n"
     ]
    }
   ],
   "source": [
    "X[\"LoyaltyIndex\"] = (df[\"YearsAtCompany\"] / df[\"Age\"]).fillna(0)"
   ]
  },
  {
   "cell_type": "code",
   "execution_count": 31,
   "id": "5b73a5b0",
   "metadata": {},
   "outputs": [
    {
     "name": "stderr",
     "output_type": "stream",
     "text": [
      "C:\\Users\\adity\\AppData\\Local\\Temp\\ipykernel_22860\\2806180603.py:1: SettingWithCopyWarning: \n",
      "A value is trying to be set on a copy of a slice from a DataFrame.\n",
      "Try using .loc[row_indexer,col_indexer] = value instead\n",
      "\n",
      "See the caveats in the documentation: https://pandas.pydata.org/pandas-docs/stable/user_guide/indexing.html#returning-a-view-versus-a-copy\n",
      "  X[\"IncomePerYear\"] = (df[\"MonthlyIncome\"] / (df[\"YearsAtCompany\"]+1)).fillna(0)\n"
     ]
    }
   ],
   "source": [
    "X[\"IncomePerYear\"] = (df[\"MonthlyIncome\"] / (df[\"YearsAtCompany\"]+1)).fillna(0)\n"
   ]
  },
  {
   "cell_type": "code",
   "execution_count": 32,
   "id": "5def0306",
   "metadata": {},
   "outputs": [
    {
     "name": "stdout",
     "output_type": "stream",
     "text": [
      "Feature sample:\n",
      "    Age  MonthlyIncome  YearsAtCompany  JobLevel  TotalWorkingYears  \\\n",
      "0   41           5993               6         2                  8   \n",
      "1   49           5130              10         2                 10   \n",
      "2   37           2090               0         1                  7   \n",
      "3   33           2909               8         1                  8   \n",
      "4   27           3468               2         1                  6   \n",
      "\n",
      "   LoyaltyIndex  IncomePerYear  \n",
      "0      0.146341     856.142857  \n",
      "1      0.204082     466.363636  \n",
      "2      0.000000    2090.000000  \n",
      "3      0.242424     323.222222  \n",
      "4      0.074074    1156.000000  \n"
     ]
    }
   ],
   "source": [
    "print(\"Feature sample:\\n\", X.head())"
   ]
  },
  {
   "cell_type": "markdown",
   "id": "9973dd24",
   "metadata": {},
   "source": [
    "### Train-Test Split"
   ]
  },
  {
   "cell_type": "code",
   "execution_count": 34,
   "id": "a5b37c04",
   "metadata": {},
   "outputs": [],
   "source": [
    "X_train, X_test, y_train, y_test = train_test_split(X, y, test_size=0.2, random_state=42)"
   ]
  },
  {
   "cell_type": "code",
   "execution_count": null,
   "id": "277dc4b8",
   "metadata": {},
   "outputs": [],
   "source": [
    "### Train Models"
   ]
  },
  {
   "cell_type": "code",
   "execution_count": 48,
   "id": "84ac8339",
   "metadata": {},
   "outputs": [],
   "source": [
    "# Logistic Regression"
   ]
  },
  {
   "cell_type": "code",
   "execution_count": 35,
   "id": "03cbaac5",
   "metadata": {},
   "outputs": [],
   "source": [
    "log_model = LogisticRegression(max_iter=500)\n",
    "log_model.fit(X_train, y_train)\n",
    "y_pred_log = log_model.predict(X_test)"
   ]
  },
  {
   "cell_type": "code",
   "execution_count": 37,
   "id": "45a8e3a8",
   "metadata": {},
   "outputs": [
    {
     "name": "stdout",
     "output_type": "stream",
     "text": [
      "\n",
      "Logistic Regression Report:\n",
      "               precision    recall  f1-score   support\n",
      "\n",
      "           0       0.87      1.00      0.93       255\n",
      "           1       0.00      0.00      0.00        39\n",
      "\n",
      "    accuracy                           0.87       294\n",
      "   macro avg       0.43      0.50      0.46       294\n",
      "weighted avg       0.75      0.87      0.81       294\n",
      "\n",
      "ROC-AUC (Logistic): 0.5\n"
     ]
    },
    {
     "name": "stderr",
     "output_type": "stream",
     "text": [
      "d:\\hackerthon_ai_project\\env\\Lib\\site-packages\\sklearn\\metrics\\_classification.py:1731: UndefinedMetricWarning: Precision is ill-defined and being set to 0.0 in labels with no predicted samples. Use `zero_division` parameter to control this behavior.\n",
      "  _warn_prf(average, modifier, f\"{metric.capitalize()} is\", result.shape[0])\n",
      "d:\\hackerthon_ai_project\\env\\Lib\\site-packages\\sklearn\\metrics\\_classification.py:1731: UndefinedMetricWarning: Precision is ill-defined and being set to 0.0 in labels with no predicted samples. Use `zero_division` parameter to control this behavior.\n",
      "  _warn_prf(average, modifier, f\"{metric.capitalize()} is\", result.shape[0])\n",
      "d:\\hackerthon_ai_project\\env\\Lib\\site-packages\\sklearn\\metrics\\_classification.py:1731: UndefinedMetricWarning: Precision is ill-defined and being set to 0.0 in labels with no predicted samples. Use `zero_division` parameter to control this behavior.\n",
      "  _warn_prf(average, modifier, f\"{metric.capitalize()} is\", result.shape[0])\n"
     ]
    }
   ],
   "source": [
    "print(\"\\nLogistic Regression Report:\\n\", classification_report(y_test, y_pred_log))\n",
    "print(\"ROC-AUC (Logistic):\", roc_auc_score(y_test, y_pred_log))"
   ]
  },
  {
   "cell_type": "code",
   "execution_count": 49,
   "id": "9224525d",
   "metadata": {},
   "outputs": [],
   "source": [
    "# Random Forest "
   ]
  },
  {
   "cell_type": "code",
   "execution_count": 36,
   "id": "ce9bacf6",
   "metadata": {},
   "outputs": [],
   "source": [
    "rf_model = RandomForestClassifier(n_estimators=100, random_state=42)\n",
    "rf_model.fit(X_train, y_train)\n",
    "y_pred_rf = rf_model.predict(X_test)"
   ]
  },
  {
   "cell_type": "code",
   "execution_count": 38,
   "id": "5bcd1dfa",
   "metadata": {},
   "outputs": [
    {
     "name": "stdout",
     "output_type": "stream",
     "text": [
      "\n",
      "Random Forest Report:\n",
      "               precision    recall  f1-score   support\n",
      "\n",
      "           0       0.87      0.95      0.90       255\n",
      "           1       0.12      0.05      0.07        39\n",
      "\n",
      "    accuracy                           0.83       294\n",
      "   macro avg       0.50      0.50      0.49       294\n",
      "weighted avg       0.77      0.83      0.79       294\n",
      "\n",
      "ROC-AUC (RandomForest): 0.4981900452488688\n"
     ]
    }
   ],
   "source": [
    "print(\"\\nRandom Forest Report:\\n\", classification_report(y_test, y_pred_rf))\n",
    "print(\"ROC-AUC (RandomForest):\", roc_auc_score(y_test, y_pred_rf))"
   ]
  },
  {
   "cell_type": "code",
   "execution_count": 44,
   "id": "a5703f20",
   "metadata": {},
   "outputs": [],
   "source": [
    "### observation\n",
    "\n",
    "# Logistic Regression completely failed to identify employees who leave (Attrition = Yes), giving 0 precision and 0 recall for that class.\n",
    "\n",
    "# Random Forest, even though not perfect, managed to capture a few leaving employees (True Positives > 0).\n",
    "\n",
    "# Random Forest is more suitable because:\n",
    "\n",
    "# It handles imbalanced data better with class_weight=\"balanced\".\n",
    "\n",
    "# It can capture non-linear patterns in HR data (Age, Income, Years, etc.).\n",
    "\n",
    "# It shows slightly improved ROC-AUC compared to Logistic Regression.\n",
    "\n",
    "#  Therefore, Random Forest was selected as the final HR Attrition model and saved as hr_model.pkl for integration in the hackathon demo"
   ]
  },
  {
   "cell_type": "code",
   "execution_count": null,
   "id": "88591187",
   "metadata": {},
   "outputs": [],
   "source": [
    "# confusion matrix"
   ]
  },
  {
   "cell_type": "code",
   "execution_count": 39,
   "id": "90dc8575",
   "metadata": {},
   "outputs": [
    {
     "data": {
      "image/png": "[encoded data removed]",
      "text/plain": [
       "<Figure size 640x480 with 2 Axes>"
      ]
     },
     "metadata": {},
     "output_type": "display_data"
    }
   ],
   "source": [
    "cm = confusion_matrix(y_test, y_pred_rf)\n",
    "sns.heatmap(cm, annot=True, fmt=\"d\", cmap=\"Blues\")\n",
    "plt.title(\"Confusion Matrix - Random Forest\")\n",
    "plt.xlabel(\"Predicted\")\n",
    "plt.ylabel(\"Actual\")\n",
    "plt.show()"
   ]
  },
  {
   "cell_type": "code",
   "execution_count": null,
   "id": "6abeaa4d",
   "metadata": {},
   "outputs": [],
   "source": [
    "### observation\n",
    "# The model correctly identified 241 employees who stayed (True Negatives).\n",
    "\n",
    "# It made 14 false alarms where employees were predicted to leave but actually stayed (False Positives).\n",
    "\n",
    "# It failed to detect 37 employees who actually left and predicted them as staying (False Negatives).\n",
    "\n",
    "# Only 2 employees who left were correctly predicted (True Positives).\n",
    "\n",
    "# This shows the model is biased towards the majority class (staying employees)"
   ]
  },
  {
   "cell_type": "code",
   "execution_count": null,
   "id": "d2e165de",
   "metadata": {},
   "outputs": [
    {
     "data": {
      "image/png": "[encoded data removed]",
      "text/plain": [
       "<Figure size 640x480 with 1 Axes>"
      ]
     },
     "metadata": {},
     "output_type": "display_data"
    }
   ],
   "source": [
    "# ROC Curve\n",
    "fpr, tpr, thresholds = roc_curve(y_test, rf_model.predict_proba(X_test)[:,1])\n",
    "plt.plot(fpr, tpr, label=\"Random Forest\")\n",
    "plt.plot([0,1],[0,1],'--', color='gray')\n",
    "plt.xlabel(\"False Positive Rate\")\n",
    "plt.ylabel(\"True Positive Rate\")\n",
    "plt.title(\"ROC Curve\")\n",
    "plt.legend()\n",
    "plt.show()"
   ]
  },
  {
   "cell_type": "code",
   "execution_count": 43,
   "id": "09145431",
   "metadata": {},
   "outputs": [],
   "source": [
    "# observation\n",
    "# The ROC curve is close to the diagonal (random guess line).\n",
    "\n",
    "# ROC-AUC score is around 0.55–0.60, which is only slightly better than random guessing.\n",
    "\n",
    "# This indicates the model still struggles to separate employees who will leave from those who will stay"
   ]
  },
  {
   "cell_type": "code",
   "execution_count": 45,
   "id": "78a853fa",
   "metadata": {},
   "outputs": [],
   "source": [
    "### Save Best Model"
   ]
  },
  {
   "cell_type": "code",
   "execution_count": 47,
   "id": "b865b8c0",
   "metadata": {},
   "outputs": [
    {
     "name": "stdout",
     "output_type": "stream",
     "text": [
      "✅ HR Model saved at ../models/saved_models/hr_model.pkl\n"
     ]
    }
   ],
   "source": [
    "import os\n",
    "\n",
    "# Create directory if not exists\n",
    "os.makedirs(\"../models/saved_models\", exist_ok=True)\n",
    "\n",
    "# Now save the model\n",
    "import joblib\n",
    "joblib.dump(rf_model, \"../models/saved_models/hr_model.pkl\")\n",
    "print(\"✅ HR Model saved at ../models/saved_models/hr_model.pkl\")\n"
   ]
  },
  {
   "cell_type": "code",
   "execution_count": null,
   "id": "5e79fd6b",
   "metadata": {},
   "outputs": [],
   "source": []
  }
 ],
 "metadata": {
  "kernelspec": {
   "display_name": "env",
   "language": "python",
   "name": "python3"
  },
  "language_info": {
   "codemirror_mode": {
    "name": "ipython",
    "version": 3
   },
   "file_extension": ".py",
   "mimetype": "text/x-python",
   "name": "python",
   "nbconvert_exporter": "python",
   "pygments_lexer": "ipython3",
   "version": "3.13.5"
  }
 },
 "nbformat": 4,
 "nbformat_minor": 5
}
